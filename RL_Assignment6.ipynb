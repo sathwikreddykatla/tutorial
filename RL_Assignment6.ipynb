{
  "nbformat": 4,
  "nbformat_minor": 0,
  "metadata": {
    "colab": {
      "provenance": [],
      "include_colab_link": true
    },
    "kernelspec": {
      "name": "python3",
      "display_name": "Python 3"
    },
    "language_info": {
      "name": "python"
    }
  },
  "cells": [
    {
      "cell_type": "markdown",
      "metadata": {
        "id": "view-in-github",
        "colab_type": "text"
      },
      "source": [
        "<a href=\"https://colab.research.google.com/github/sathwikreddykatla/tutorial/blob/master/RL_Assignment6.ipynb\" target=\"_parent\"><img src=\"https://colab.research.google.com/assets/colab-badge.svg\" alt=\"Open In Colab\"/></a>"
      ]
    },
    {
      "cell_type": "code",
      "source": [
        "import numpy as np\n",
        "\n",
        "class GridWorldMDP:\n",
        "    def __init__(self, grid_size, start_state, terminal_states, rewards, actions, gamma=0.9):\n",
        "        self.grid_size = grid_size\n",
        "        self.start_state = start_state\n",
        "        self.terminal_states = terminal_states\n",
        "        self.rewards = rewards\n",
        "        self.actions = actions\n",
        "        self.gamma = gamma\n",
        "\n",
        "        self.state_values = np.zeros(grid_size)\n",
        "        self.policy = np.random.choice(len(actions), size=grid_size)\n",
        "\n",
        "    def value_iteration(self, epsilon=0.01):\n",
        "        while True:\n",
        "            delta = 0\n",
        "            for i in range(self.grid_size[0]):\n",
        "                for j in range(self.grid_size[1]):\n",
        "                    state = (i, j)\n",
        "                    if state in self.terminal_states:\n",
        "                        continue\n",
        "                    old_value = self.state_values[i, j]\n",
        "                    action_values = []\n",
        "                    for action in self.actions:\n",
        "                        next_state, reward = self.take_action(state, action)\n",
        "                        action_value = reward + self.gamma * self.state_values[next_state[0], next_state[1]]\n",
        "                        action_values.append(action_value)\n",
        "                    self.state_values[i, j] = max(action_values)\n",
        "                    delta = max(delta, abs(old_value - self.state_values[i, j]))\n",
        "            if delta < epsilon:\n",
        "                break\n",
        "\n",
        "    def take_action(self, state, action):\n",
        "        if state in self.terminal_states:\n",
        "            return state, 0\n",
        "        next_state = (state[0] + action[0], state[1] + action[1])\n",
        "        if next_state[0] < 0 or next_state[0] >= self.grid_size[0] or next_state[1] < 0 or next_state[1] >= self.grid_size[1]:\n",
        "            next_state = state\n",
        "        reward = self.rewards.get(next_state, -1)\n",
        "        return next_state, reward\n",
        "\n",
        "    def find_optimal_policy(self):\n",
        "        for i in range(self.grid_size[0]):\n",
        "            for j in range(self.grid_size[1]):\n",
        "                state = (i, j)\n",
        "                if state in self.terminal_states:\n",
        "                    continue\n",
        "                action_values = []\n",
        "                for action in self.actions:\n",
        "                    next_state, reward = self.take_action(state, action)\n",
        "                    action_value = reward + self.gamma * self.state_values[next_state[0], next_state[1]]\n",
        "                    action_values.append((action, action_value))\n",
        "                best_action = max(action_values, key=lambda x: x[1])[0]\n",
        "                self.policy[i, j] = self.actions.index(best_action)\n",
        "\n",
        "    def print_policy(self):\n",
        "        for i in range(self.grid_size[0]):\n",
        "            for j in range(self.grid_size[1]):\n",
        "                state = (i, j)\n",
        "                if state in self.terminal_states:\n",
        "                    print('T', end=' ')\n",
        "                else:\n",
        "                    action = self.actions[self.policy[i, j]]\n",
        "                    if action == (0, 1):\n",
        "                        print('>', end=' ')\n",
        "                    elif action == (0, -1):\n",
        "                        print('<', end=' ')\n",
        "                    elif action == (-1, 0):\n",
        "                        print('^', end=' ')\n",
        "                    elif action == (1, 0):\n",
        "                        print('v', end=' ')\n",
        "            print()\n",
        "\n",
        "# Example Usage\n",
        "grid_size = (4, 4)\n",
        "start_state = (0, 0)\n",
        "terminal_states = {(0, 3): 1, (3, 3): -1}  # terminal_states: {state: reward}\n",
        "rewards = {}\n",
        "actions = [(0, 1), (0, -1), (-1, 0), (1, 0)]  # right, left, up, down\n",
        "\n",
        "grid_world = GridWorldMDP(grid_size, start_state, terminal_states, rewards, actions)\n",
        "grid_world.value_iteration()\n",
        "grid_world.find_optimal_policy()\n",
        "\n",
        "print(\"State Values:\")\n",
        "print(grid_world.state_values)\n",
        "print(\"\\nOptimal Policy:\")\n",
        "grid_world.print_policy()\n"
      ],
      "metadata": {
        "colab": {
          "base_uri": "https://localhost:8080/"
        },
        "id": "bguTYRtu7G58",
        "outputId": "c9ba6b09-1c93-4ca7-a2d9-269bfe21a4b5"
      },
      "execution_count": 1,
      "outputs": [
        {
          "output_type": "stream",
          "name": "stdout",
          "text": [
            "State Values:\n",
            "[[-2.71  -1.9   -1.     0.   ]\n",
            " [-3.439 -2.71  -1.9   -1.   ]\n",
            " [-3.439 -2.71  -1.9   -1.   ]\n",
            " [-2.71  -1.9   -1.     0.   ]]\n",
            "\n",
            "Optimal Policy:\n",
            "> > > T \n",
            "> > > ^ \n",
            "> > > v \n",
            "> > > T \n"
          ]
        }
      ]
    }
  ]
}