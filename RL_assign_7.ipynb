{
  "nbformat": 4,
  "nbformat_minor": 0,
  "metadata": {
    "colab": {
      "provenance": [],
      "authorship_tag": "ABX9TyMraL53lUpNEKB8UmSESonz",
      "include_colab_link": true
    },
    "kernelspec": {
      "name": "python3",
      "display_name": "Python 3"
    },
    "language_info": {
      "name": "python"
    }
  },
  "cells": [
    {
      "cell_type": "markdown",
      "metadata": {
        "id": "view-in-github",
        "colab_type": "text"
      },
      "source": [
        "<a href=\"https://colab.research.google.com/github/sathwikreddykatla/tutorial/blob/master/RL_assign_7.ipynb\" target=\"_parent\"><img src=\"https://colab.research.google.com/assets/colab-badge.svg\" alt=\"Open In Colab\"/></a>"
      ]
    },
    {
      "cell_type": "code",
      "execution_count": null,
      "metadata": {
        "colab": {
          "base_uri": "https://localhost:8080/"
        },
        "id": "3viCAW_RWtXk",
        "outputId": "baba2ae7-652f-434b-e30b-617701c282d7"
      },
      "outputs": [
        {
          "output_type": "stream",
          "name": "stdout",
          "text": [
            "Covariance Matrix:\n",
            " [[4. 0.]\n",
            " [0. 0.]]\n",
            "\n",
            "Correlation Matrix:\n",
            " [[1.5 0. ]\n",
            " [0.  0. ]]\n"
          ]
        }
      ],
      "source": [
        "import numpy as np\n",
        "def cov_matrix(data):\n",
        "  rows, cols = data.shape\n",
        "  cov_mat = np.zeros((cols, cols))\n",
        "  for i in range(cols):\n",
        "    for j in range(i, cols): # Avoid redundant computations\n",
        "      mean_x, mean_y = data[:, i].mean(), data[:, j].mean()\n",
        "      cov_mat[i, j] = np.sum((data[:, i] - mean_x) * (data[:, j] - mean_y)) /(rows - 1)\n",
        "      cov_mat[j, i] = cov_mat[i, j] # Fill symmetric part\n",
        "      return cov_mat\n",
        "def corr_matrix(data):\n",
        "  rows, cols = data.shape\n",
        "  corr_mat = np.zeros((cols, cols))\n",
        "  for i in range(cols):\n",
        "    for j in range(i, cols): # Avoid redundant computations\n",
        "      std_x, std_y = data[:, i].std(), data[:, j].std()\n",
        "      if std_x > 0 and std_y > 0: # Avoid division by zero\n",
        "        corr_mat[i, j] = cov_matrix(data)[i, j] / (std_x * std_y)\n",
        "      else:\n",
        "        corr_mat[i, j] = np.nan # Handle cases with zero standard deviation\n",
        "        corr_mat[j, i] = corr_mat[i, j]\n",
        "  return corr_mat\n",
        "data = np.array([[1, 2], [3, 4], [5, 6]])\n",
        "cov_result = cov_matrix(data)\n",
        "corr_result = corr_matrix(data)\n",
        "print(\"Covariance Matrix:\\n\", cov_result)\n",
        "print(\"\\nCorrelation Matrix:\\n\",corr_result)\n"
      ]
    }
  ]
}